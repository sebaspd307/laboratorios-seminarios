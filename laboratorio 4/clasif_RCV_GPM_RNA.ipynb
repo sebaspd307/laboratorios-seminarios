{
  "cells": [
    {
      "cell_type": "markdown",
      "id": "inappropriate-farmer",
      "metadata": {
        "id": "inappropriate-farmer"
      },
      "source": [
        "# Redes Neuronales Artificiales Para Predecir Riesgo Cardiovascular\n",
        "\n",
        "Autores: \n",
        "- Edgar Sebastian peña diaz\n",
        "- leyder bolaños\n",
        "- Breyner Andreit Rincon Quiroga\n",
        "- Cristian Ballen Gamboa\n",
        "\n",
        "Bogotá, Colombia \\\n",
        "Actualizado: 04 jun 2024 \\\n",
        "_Nota: Código ajustado para su ejecución en Google Colaboratory_\\\n",
        "Verificado con las siguientes versiones: Python 3.10.12, Tensorflow: 2.13.0, Keras: 2.13.1_"
      ]
    },
    {
      "cell_type": "markdown",
      "id": "adapted-handle",
      "metadata": {
        "id": "adapted-handle"
      },
      "source": [
        "## Cargar librerías\n",
        "The Python programming language relies on specialized code libraries for various functionalities. For example, if we want to graph we can invoke (call, load) a specialized library such as matplotlib. This packaging of code with concrete functions and the like is similar to what R software does with packages. Next, the libraries required for the correct training of multilayer perceptron neural networks are imported. The specialized libraries specifically for training neural networks to predict cardiovascular risk are TensorFlow (_version 2.13.0_) and Keras (_version 2.13.1_).\n",
        "\n",
        "<!-- El lenguaje de programación python se apoya en librerías de código especializadas en diversas funcionalidades. Por ejemplo, si queremos graficar podemos invocar (llamar, cargar) una librerías especilizada como matplotlib. ESte empaquetamiento de código con funciones concretas y similares, se asemeja a los que hace el software R con los paquetes. A continuación, se importan las librerías requeridas para el correcto entrenamiento de redes neuronales del tipo perceptrón multicapa. Las librerías especializadas, específicamente para entrenar las redes neuronales para predecri riesgo cardiovascular son las siguientes TensorFlow (_versión 2.13.0_) y Keras (_versión 2.13.1_). -->"
      ]
    },
    {
      "cell_type": "code",
      "execution_count": null,
      "id": "cardiovascular-satin",
      "metadata": {
        "id": "cardiovascular-satin"
      },
      "outputs": [],
      "source": [
        "# Librerías básicas de Python\n",
        "import numpy as np\n",
        "import pandas as pd\n",
        "import matplotlib.pyplot as plt\n",
        "\n",
        "# Librería para calcular tiempo de ejecución\n",
        "from time import process_time\n",
        "\n",
        "# Librerías para particionar conjunto de datos\n",
        "from sklearn.preprocessing import StandardScaler\n",
        "from sklearn.model_selection import train_test_split as split\n",
        "\n",
        "# Funciones requeridas de la librerías que permite entrenar redes neuronales\n",
        "# artificiales\n",
        "from tensorflow.keras import models\n",
        "from tensorflow.keras.layers import Dense\n",
        "from tensorflow.keras import optimizers\n",
        "from tensorflow.keras import utils as np_utils\n",
        "\n",
        "# Funciones requeridas de la librería para evaluar desempeño de la RNA\n",
        "from sklearn.metrics import roc_curve, roc_auc_score\n",
        "from sklearn.metrics import classification_report, confusion_matrix"
      ]
    },
    {
      "cell_type": "markdown",
      "id": "foKFuPu-R0To",
      "metadata": {
        "id": "foKFuPu-R0To"
      },
      "source": [
        "## Verificación de versiones de librerías\n",
        "De manera rutinaria se recomienda hacer la verificación de la versión actual de las versiones de Python, TensorFlow y Keras. Por lo tanto a continuación se mnuestran las lineas de código para verificar las versiones de dichas librerías, incluyendo la versión del sistema operativo. Google Colaboratory se ejecuta sobre un sistema operatio Linux distribución Ubuntu,"
      ]
    },
    {
      "cell_type": "code",
      "execution_count": null,
      "id": "iJ-XtMkY7Y4h",
      "metadata": {
        "colab": {
          "base_uri": "https://localhost:8080/"
        },
        "id": "iJ-XtMkY7Y4h",
        "outputId": "25073c0a-fe48-4c8f-ebc4-e78b57d55d82"
      },
      "outputs": [
        {
          "name": "stdout",
          "output_type": "stream",
          "text": [
            "El sistema operativo base de Google Colaboratory es: \n",
            "No LSB modules are available.\n",
            "Distributor ID:\tUbuntu\n",
            "Description:\tUbuntu 22.04.3 LTS\n",
            "Release:\t22.04\n",
            "Codename:\tjammy\n",
            "La versión actual de Python es: \n",
            "Python 3.10.12\n",
            "La versión instalada de Tensorflow es: 2.15.0\n",
            "La versión instalada de Keras es: 2.15.0\n"
          ]
        }
      ],
      "source": [
        "import tensorflow\n",
        "import keras\n",
        "print(\"El sistema operativo base de Google Colaboratory es: \")\n",
        "!lsb_release -a\n",
        "print(\"La versión actual de Python es: \")\n",
        "!python --version\n",
        "print(\"La versión instalada de Tensorflow es: \" + tensorflow.__version__)\n",
        "print(\"La versión instalada de Keras es: \" + keras.__version__)"
      ]
    },
    {
      "cell_type": "markdown",
      "id": "nasty-transparency",
      "metadata": {
        "id": "nasty-transparency"
      },
      "source": [
        "## Cargar datos\n",
        "En el contexto del presente taller, los datos que se utilizan para el entrenamiento, evaluación y validación se almacenan en un directorio de Google Drive del mismo usuario actual de Google Colaboratory. Para acceder a los datos solo se requiere ejecutar la primera celda de código de esta sección, luego brindar los permisos de acceo respectivo y, finalmente, cambiar la ruta de acceso al archivo de los datos."
      ]
    },
    {
      "cell_type": "code",
      "execution_count": null,
      "id": "9LuuavIPie6Z",
      "metadata": {
        "colab": {
          "base_uri": "https://localhost:8080/"
        },
        "id": "9LuuavIPie6Z",
        "outputId": "4958d6dd-07cf-4da8-8532-7ef58dd8f974"
      },
      "outputs": [
        {
          "name": "stdout",
          "output_type": "stream",
          "text": [
            "Drive already mounted at /content/drive; to attempt to forcibly remount, call drive.mount(\"/content/drive\", force_remount=True).\n"
          ]
        }
      ],
      "source": [
        "from google.colab import drive\n",
        "drive.mount('/content/drive')"
      ]
    },
    {
      "cell_type": "code",
      "execution_count": null,
      "id": "applicable-darkness",
      "metadata": {
        "id": "applicable-darkness"
      },
      "outputs": [],
      "source": [
        "data = pd.read_excel(\"/content/drive/MyDrive/bigData/pacientes_rcv_limpio.xlsx\")\n",
        "target = data.loc[:, 'Clasificación de RCV Global'].astype(int)\n",
        "data = data.drop(['Clasificación de RCV Global'], axis=1)\n",
        "target=pd.Categorical(target).codes"
      ]
    },
    {
      "cell_type": "code",
      "execution_count": null,
      "id": "-NPpefeF2L9D",
      "metadata": {
        "colab": {
          "base_uri": "https://localhost:8080/",
          "height": 343
        },
        "id": "-NPpefeF2L9D",
        "outputId": "16a44217-922d-48d9-927b-0a2e8ff05850"
      },
      "outputs": [
        {
          "name": "stdout",
          "output_type": "stream",
          "text": [
            "(3000, 35)\n"
          ]
        },
        {
          "data": {
            "application/vnd.google.colaboratory.intrinsic+json": {
              "type": "dataframe",
              "variable_name": "data"
            },
            "text/html": [
              "\n",
              "  <div id=\"df-28162987-65db-43d9-998a-7965663a984a\" class=\"colab-df-container\">\n",
              "    <div>\n",
              "<style scoped>\n",
              "    .dataframe tbody tr th:only-of-type {\n",
              "        vertical-align: middle;\n",
              "    }\n",
              "\n",
              "    .dataframe tbody tr th {\n",
              "        vertical-align: top;\n",
              "    }\n",
              "\n",
              "    .dataframe thead th {\n",
              "        text-align: right;\n",
              "    }\n",
              "</style>\n",
              "<table border=\"1\" class=\"dataframe\">\n",
              "  <thead>\n",
              "    <tr style=\"text-align: right;\">\n",
              "      <th></th>\n",
              "      <th>Edad (años)</th>\n",
              "      <th>Genero</th>\n",
              "      <th>Zona</th>\n",
              "      <th>Fumador Activo</th>\n",
              "      <th>¿Diabetes?</th>\n",
              "      <th>Hipertensión Arterial Sistemica</th>\n",
              "      <th>HTA + DM</th>\n",
              "      <th>Clasificacion de Diabetes o del ultimo estado de Glicemia</th>\n",
              "      <th>Complicaciones  y Lesiones en Organo Blanco</th>\n",
              "      <th>Antecedentes_Fliar_Enfermedad_Coronaria</th>\n",
              "      <th>...</th>\n",
              "      <th>Creatinina</th>\n",
              "      <th>Factor de corrección de la formula</th>\n",
              "      <th>Proteinuria</th>\n",
              "      <th>Calculo de  TFG corregida (Cockcroft-Gault)</th>\n",
              "      <th>Estadio IRC</th>\n",
              "      <th>Remisiones Especialidad</th>\n",
              "      <th>Farmacos  Antihipertensivos</th>\n",
              "      <th>Estatina</th>\n",
              "      <th>Antidiabeticos</th>\n",
              "      <th>Adherencia al tratamiento</th>\n",
              "    </tr>\n",
              "  </thead>\n",
              "  <tbody>\n",
              "    <tr>\n",
              "      <th>0</th>\n",
              "      <td>82</td>\n",
              "      <td>2</td>\n",
              "      <td>1</td>\n",
              "      <td>1</td>\n",
              "      <td>1</td>\n",
              "      <td>2</td>\n",
              "      <td>1</td>\n",
              "      <td>0.0</td>\n",
              "      <td>1</td>\n",
              "      <td>1</td>\n",
              "      <td>...</td>\n",
              "      <td>132.0</td>\n",
              "      <td>85</td>\n",
              "      <td>0.0</td>\n",
              "      <td>37.348485</td>\n",
              "      <td>3.0</td>\n",
              "      <td>1.0</td>\n",
              "      <td>1.0</td>\n",
              "      <td>0</td>\n",
              "      <td>2.0</td>\n",
              "      <td>1.0</td>\n",
              "    </tr>\n",
              "    <tr>\n",
              "      <th>1</th>\n",
              "      <td>83</td>\n",
              "      <td>2</td>\n",
              "      <td>1</td>\n",
              "      <td>1</td>\n",
              "      <td>1</td>\n",
              "      <td>2</td>\n",
              "      <td>1</td>\n",
              "      <td>0.0</td>\n",
              "      <td>1</td>\n",
              "      <td>1</td>\n",
              "      <td>...</td>\n",
              "      <td>97.0</td>\n",
              "      <td>85</td>\n",
              "      <td>0.0</td>\n",
              "      <td>33.000000</td>\n",
              "      <td>3.0</td>\n",
              "      <td>1.0</td>\n",
              "      <td>2.0</td>\n",
              "      <td>0</td>\n",
              "      <td>0.0</td>\n",
              "      <td>1.0</td>\n",
              "    </tr>\n",
              "    <tr>\n",
              "      <th>2</th>\n",
              "      <td>54</td>\n",
              "      <td>2</td>\n",
              "      <td>1</td>\n",
              "      <td>1</td>\n",
              "      <td>1</td>\n",
              "      <td>1</td>\n",
              "      <td>1</td>\n",
              "      <td>0.0</td>\n",
              "      <td>1</td>\n",
              "      <td>1</td>\n",
              "      <td>...</td>\n",
              "      <td>97.0</td>\n",
              "      <td>85</td>\n",
              "      <td>0.0</td>\n",
              "      <td>51.000000</td>\n",
              "      <td>3.0</td>\n",
              "      <td>1.0</td>\n",
              "      <td>3.0</td>\n",
              "      <td>0</td>\n",
              "      <td>0.0</td>\n",
              "      <td>1.0</td>\n",
              "    </tr>\n",
              "    <tr>\n",
              "      <th>3</th>\n",
              "      <td>68</td>\n",
              "      <td>2</td>\n",
              "      <td>1</td>\n",
              "      <td>1</td>\n",
              "      <td>1</td>\n",
              "      <td>1</td>\n",
              "      <td>1</td>\n",
              "      <td>0.0</td>\n",
              "      <td>1</td>\n",
              "      <td>1</td>\n",
              "      <td>...</td>\n",
              "      <td>86.0</td>\n",
              "      <td>85</td>\n",
              "      <td>0.0</td>\n",
              "      <td>53.372093</td>\n",
              "      <td>3.0</td>\n",
              "      <td>1.0</td>\n",
              "      <td>1.0</td>\n",
              "      <td>0</td>\n",
              "      <td>0.0</td>\n",
              "      <td>1.0</td>\n",
              "    </tr>\n",
              "    <tr>\n",
              "      <th>4</th>\n",
              "      <td>68</td>\n",
              "      <td>2</td>\n",
              "      <td>1</td>\n",
              "      <td>1</td>\n",
              "      <td>2</td>\n",
              "      <td>1</td>\n",
              "      <td>1</td>\n",
              "      <td>2.0</td>\n",
              "      <td>1</td>\n",
              "      <td>1</td>\n",
              "      <td>...</td>\n",
              "      <td>71.0</td>\n",
              "      <td>85</td>\n",
              "      <td>0.0</td>\n",
              "      <td>68.239437</td>\n",
              "      <td>2.0</td>\n",
              "      <td>1.0</td>\n",
              "      <td>2.0</td>\n",
              "      <td>0</td>\n",
              "      <td>3.0</td>\n",
              "      <td>1.0</td>\n",
              "    </tr>\n",
              "  </tbody>\n",
              "</table>\n",
              "<p>5 rows × 35 columns</p>\n",
              "</div>\n",
              "    <div class=\"colab-df-buttons\">\n",
              "\n",
              "  <div class=\"colab-df-container\">\n",
              "    <button class=\"colab-df-convert\" onclick=\"convertToInteractive('df-28162987-65db-43d9-998a-7965663a984a')\"\n",
              "            title=\"Convert this dataframe to an interactive table.\"\n",
              "            style=\"display:none;\">\n",
              "\n",
              "  <svg xmlns=\"http://www.w3.org/2000/svg\" height=\"24px\" viewBox=\"0 -960 960 960\">\n",
              "    <path d=\"M120-120v-720h720v720H120Zm60-500h600v-160H180v160Zm220 220h160v-160H400v160Zm0 220h160v-160H400v160ZM180-400h160v-160H180v160Zm440 0h160v-160H620v160ZM180-180h160v-160H180v160Zm440 0h160v-160H620v160Z\"/>\n",
              "  </svg>\n",
              "    </button>\n",
              "\n",
              "  <style>\n",
              "    .colab-df-container {\n",
              "      display:flex;\n",
              "      gap: 12px;\n",
              "    }\n",
              "\n",
              "    .colab-df-convert {\n",
              "      background-color: #E8F0FE;\n",
              "      border: none;\n",
              "      border-radius: 50%;\n",
              "      cursor: pointer;\n",
              "      display: none;\n",
              "      fill: #1967D2;\n",
              "      height: 32px;\n",
              "      padding: 0 0 0 0;\n",
              "      width: 32px;\n",
              "    }\n",
              "\n",
              "    .colab-df-convert:hover {\n",
              "      background-color: #E2EBFA;\n",
              "      box-shadow: 0px 1px 2px rgba(60, 64, 67, 0.3), 0px 1px 3px 1px rgba(60, 64, 67, 0.15);\n",
              "      fill: #174EA6;\n",
              "    }\n",
              "\n",
              "    .colab-df-buttons div {\n",
              "      margin-bottom: 4px;\n",
              "    }\n",
              "\n",
              "    [theme=dark] .colab-df-convert {\n",
              "      background-color: #3B4455;\n",
              "      fill: #D2E3FC;\n",
              "    }\n",
              "\n",
              "    [theme=dark] .colab-df-convert:hover {\n",
              "      background-color: #434B5C;\n",
              "      box-shadow: 0px 1px 3px 1px rgba(0, 0, 0, 0.15);\n",
              "      filter: drop-shadow(0px 1px 2px rgba(0, 0, 0, 0.3));\n",
              "      fill: #FFFFFF;\n",
              "    }\n",
              "  </style>\n",
              "\n",
              "    <script>\n",
              "      const buttonEl =\n",
              "        document.querySelector('#df-28162987-65db-43d9-998a-7965663a984a button.colab-df-convert');\n",
              "      buttonEl.style.display =\n",
              "        google.colab.kernel.accessAllowed ? 'block' : 'none';\n",
              "\n",
              "      async function convertToInteractive(key) {\n",
              "        const element = document.querySelector('#df-28162987-65db-43d9-998a-7965663a984a');\n",
              "        const dataTable =\n",
              "          await google.colab.kernel.invokeFunction('convertToInteractive',\n",
              "                                                    [key], {});\n",
              "        if (!dataTable) return;\n",
              "\n",
              "        const docLinkHtml = 'Like what you see? Visit the ' +\n",
              "          '<a target=\"_blank\" href=https://colab.research.google.com/notebooks/data_table.ipynb>data table notebook</a>'\n",
              "          + ' to learn more about interactive tables.';\n",
              "        element.innerHTML = '';\n",
              "        dataTable['output_type'] = 'display_data';\n",
              "        await google.colab.output.renderOutput(dataTable, element);\n",
              "        const docLink = document.createElement('div');\n",
              "        docLink.innerHTML = docLinkHtml;\n",
              "        element.appendChild(docLink);\n",
              "      }\n",
              "    </script>\n",
              "  </div>\n",
              "\n",
              "\n",
              "<div id=\"df-a8ad8b2b-201a-4369-90af-1d5aceb398c9\">\n",
              "  <button class=\"colab-df-quickchart\" onclick=\"quickchart('df-a8ad8b2b-201a-4369-90af-1d5aceb398c9')\"\n",
              "            title=\"Suggest charts\"\n",
              "            style=\"display:none;\">\n",
              "\n",
              "<svg xmlns=\"http://www.w3.org/2000/svg\" height=\"24px\"viewBox=\"0 0 24 24\"\n",
              "     width=\"24px\">\n",
              "    <g>\n",
              "        <path d=\"M19 3H5c-1.1 0-2 .9-2 2v14c0 1.1.9 2 2 2h14c1.1 0 2-.9 2-2V5c0-1.1-.9-2-2-2zM9 17H7v-7h2v7zm4 0h-2V7h2v10zm4 0h-2v-4h2v4z\"/>\n",
              "    </g>\n",
              "</svg>\n",
              "  </button>\n",
              "\n",
              "<style>\n",
              "  .colab-df-quickchart {\n",
              "      --bg-color: #E8F0FE;\n",
              "      --fill-color: #1967D2;\n",
              "      --hover-bg-color: #E2EBFA;\n",
              "      --hover-fill-color: #174EA6;\n",
              "      --disabled-fill-color: #AAA;\n",
              "      --disabled-bg-color: #DDD;\n",
              "  }\n",
              "\n",
              "  [theme=dark] .colab-df-quickchart {\n",
              "      --bg-color: #3B4455;\n",
              "      --fill-color: #D2E3FC;\n",
              "      --hover-bg-color: #434B5C;\n",
              "      --hover-fill-color: #FFFFFF;\n",
              "      --disabled-bg-color: #3B4455;\n",
              "      --disabled-fill-color: #666;\n",
              "  }\n",
              "\n",
              "  .colab-df-quickchart {\n",
              "    background-color: var(--bg-color);\n",
              "    border: none;\n",
              "    border-radius: 50%;\n",
              "    cursor: pointer;\n",
              "    display: none;\n",
              "    fill: var(--fill-color);\n",
              "    height: 32px;\n",
              "    padding: 0;\n",
              "    width: 32px;\n",
              "  }\n",
              "\n",
              "  .colab-df-quickchart:hover {\n",
              "    background-color: var(--hover-bg-color);\n",
              "    box-shadow: 0 1px 2px rgba(60, 64, 67, 0.3), 0 1px 3px 1px rgba(60, 64, 67, 0.15);\n",
              "    fill: var(--button-hover-fill-color);\n",
              "  }\n",
              "\n",
              "  .colab-df-quickchart-complete:disabled,\n",
              "  .colab-df-quickchart-complete:disabled:hover {\n",
              "    background-color: var(--disabled-bg-color);\n",
              "    fill: var(--disabled-fill-color);\n",
              "    box-shadow: none;\n",
              "  }\n",
              "\n",
              "  .colab-df-spinner {\n",
              "    border: 2px solid var(--fill-color);\n",
              "    border-color: transparent;\n",
              "    border-bottom-color: var(--fill-color);\n",
              "    animation:\n",
              "      spin 1s steps(1) infinite;\n",
              "  }\n",
              "\n",
              "  @keyframes spin {\n",
              "    0% {\n",
              "      border-color: transparent;\n",
              "      border-bottom-color: var(--fill-color);\n",
              "      border-left-color: var(--fill-color);\n",
              "    }\n",
              "    20% {\n",
              "      border-color: transparent;\n",
              "      border-left-color: var(--fill-color);\n",
              "      border-top-color: var(--fill-color);\n",
              "    }\n",
              "    30% {\n",
              "      border-color: transparent;\n",
              "      border-left-color: var(--fill-color);\n",
              "      border-top-color: var(--fill-color);\n",
              "      border-right-color: var(--fill-color);\n",
              "    }\n",
              "    40% {\n",
              "      border-color: transparent;\n",
              "      border-right-color: var(--fill-color);\n",
              "      border-top-color: var(--fill-color);\n",
              "    }\n",
              "    60% {\n",
              "      border-color: transparent;\n",
              "      border-right-color: var(--fill-color);\n",
              "    }\n",
              "    80% {\n",
              "      border-color: transparent;\n",
              "      border-right-color: var(--fill-color);\n",
              "      border-bottom-color: var(--fill-color);\n",
              "    }\n",
              "    90% {\n",
              "      border-color: transparent;\n",
              "      border-bottom-color: var(--fill-color);\n",
              "    }\n",
              "  }\n",
              "</style>\n",
              "\n",
              "  <script>\n",
              "    async function quickchart(key) {\n",
              "      const quickchartButtonEl =\n",
              "        document.querySelector('#' + key + ' button');\n",
              "      quickchartButtonEl.disabled = true;  // To prevent multiple clicks.\n",
              "      quickchartButtonEl.classList.add('colab-df-spinner');\n",
              "      try {\n",
              "        const charts = await google.colab.kernel.invokeFunction(\n",
              "            'suggestCharts', [key], {});\n",
              "      } catch (error) {\n",
              "        console.error('Error during call to suggestCharts:', error);\n",
              "      }\n",
              "      quickchartButtonEl.classList.remove('colab-df-spinner');\n",
              "      quickchartButtonEl.classList.add('colab-df-quickchart-complete');\n",
              "    }\n",
              "    (() => {\n",
              "      let quickchartButtonEl =\n",
              "        document.querySelector('#df-a8ad8b2b-201a-4369-90af-1d5aceb398c9 button');\n",
              "      quickchartButtonEl.style.display =\n",
              "        google.colab.kernel.accessAllowed ? 'block' : 'none';\n",
              "    })();\n",
              "  </script>\n",
              "</div>\n",
              "\n",
              "    </div>\n",
              "  </div>\n"
            ],
            "text/plain": [
              "   Edad (años)  Genero  Zona  Fumador Activo  ¿Diabetes?  \\\n",
              "0           82       2     1               1           1   \n",
              "1           83       2     1               1           1   \n",
              "2           54       2     1               1           1   \n",
              "3           68       2     1               1           1   \n",
              "4           68       2     1               1           2   \n",
              "\n",
              "   Hipertensión Arterial Sistemica  HTA + DM  \\\n",
              "0                                2         1   \n",
              "1                                2         1   \n",
              "2                                1         1   \n",
              "3                                1         1   \n",
              "4                                1         1   \n",
              "\n",
              "   Clasificacion de Diabetes o del ultimo estado de Glicemia  \\\n",
              "0                                                0.0           \n",
              "1                                                0.0           \n",
              "2                                                0.0           \n",
              "3                                                0.0           \n",
              "4                                                2.0           \n",
              "\n",
              "   Complicaciones  y Lesiones en Organo Blanco  \\\n",
              "0                                            1   \n",
              "1                                            1   \n",
              "2                                            1   \n",
              "3                                            1   \n",
              "4                                            1   \n",
              "\n",
              "   Antecedentes_Fliar_Enfermedad_Coronaria  ...  Creatinina  \\\n",
              "0                                        1  ...       132.0   \n",
              "1                                        1  ...        97.0   \n",
              "2                                        1  ...        97.0   \n",
              "3                                        1  ...        86.0   \n",
              "4                                        1  ...        71.0   \n",
              "\n",
              "   Factor de corrección de la formula  Proteinuria  \\\n",
              "0                                  85          0.0   \n",
              "1                                  85          0.0   \n",
              "2                                  85          0.0   \n",
              "3                                  85          0.0   \n",
              "4                                  85          0.0   \n",
              "\n",
              "   Calculo de  TFG corregida (Cockcroft-Gault)  Estadio IRC  \\\n",
              "0                                    37.348485          3.0   \n",
              "1                                    33.000000          3.0   \n",
              "2                                    51.000000          3.0   \n",
              "3                                    53.372093          3.0   \n",
              "4                                    68.239437          2.0   \n",
              "\n",
              "   Remisiones Especialidad  Farmacos  Antihipertensivos  Estatina  \\\n",
              "0                      1.0                          1.0         0   \n",
              "1                      1.0                          2.0         0   \n",
              "2                      1.0                          3.0         0   \n",
              "3                      1.0                          1.0         0   \n",
              "4                      1.0                          2.0         0   \n",
              "\n",
              "   Antidiabeticos  Adherencia al tratamiento  \n",
              "0             2.0                        1.0  \n",
              "1             0.0                        1.0  \n",
              "2             0.0                        1.0  \n",
              "3             0.0                        1.0  \n",
              "4             3.0                        1.0  \n",
              "\n",
              "[5 rows x 35 columns]"
            ]
          },
          "execution_count": 133,
          "metadata": {},
          "output_type": "execute_result"
        }
      ],
      "source": [
        "print(data.shape)\n",
        "data.head()"
      ]
    },
    {
      "cell_type": "code",
      "execution_count": null,
      "id": "pHpr2_1D3qk8",
      "metadata": {
        "colab": {
          "base_uri": "https://localhost:8080/"
        },
        "id": "pHpr2_1D3qk8",
        "outputId": "bb40bad5-3aeb-4c42-9dc8-a93a517036e3"
      },
      "outputs": [
        {
          "data": {
            "text/plain": [
              "Edad (años)                                                    int64\n",
              "Genero                                                         int64\n",
              "Zona                                                           int64\n",
              "Fumador Activo                                                 int64\n",
              "¿Diabetes?                                                     int64\n",
              "Hipertensión Arterial Sistemica                                int64\n",
              "HTA + DM                                                       int64\n",
              "Clasificacion de Diabetes o del ultimo estado de Glicemia    float64\n",
              "Complicaciones  y Lesiones en Organo Blanco                    int64\n",
              "Antecedentes_Fliar_Enfermedad_Coronaria                        int64\n",
              "Tension SISTOLICA                                              int64\n",
              "Tension DIASTOLICA                                           float64\n",
              "HTA COMPENSADOS                                                int64\n",
              "Colesterol Total                                               int64\n",
              "Colesterol HDL                                               float64\n",
              "Trigliceridos                                                  int64\n",
              "Colesterol LDL                                               float64\n",
              "HTA Y DM COMPENSADA                                            int64\n",
              "Glicemia de ayuno                                            float64\n",
              "Perimetro Abdominal                                          float64\n",
              "Clasificación perímetro abdominal                            float64\n",
              "Peso                                                           int64\n",
              "Talla                                                          int64\n",
              "IMC                                                            int64\n",
              "CLASIFICACION IMC                                              int64\n",
              "Creatinina                                                   float64\n",
              "Factor de corrección de la formula                             int64\n",
              "Proteinuria                                                  float64\n",
              "Calculo de  TFG corregida (Cockcroft-Gault)                  float64\n",
              "Estadio IRC                                                  float64\n",
              "Remisiones Especialidad                                      float64\n",
              "Farmacos  Antihipertensivos                                  float64\n",
              "Estatina                                                       int64\n",
              "Antidiabeticos                                               float64\n",
              "Adherencia al tratamiento                                    float64\n",
              "dtype: object"
            ]
          },
          "execution_count": 134,
          "metadata": {},
          "output_type": "execute_result"
        }
      ],
      "source": [
        "data.dtypes"
      ]
    },
    {
      "cell_type": "markdown",
      "id": "cY7fuulPDmAL",
      "metadata": {
        "id": "cY7fuulPDmAL"
      },
      "source": [
        "## Conteo de clases\n",
        "\n",
        "El desbalance de clases es notorio. La clase que representa al riesgo cardiovascular intermedio tiene 40% menos muestras que el riesgo cardiovascular alto. Entretanto, la clase que representa al riesgo cardiovascular bajo tiene 60% menos muestras que el riesgo cardiovascular alto."
      ]
    },
    {
      "cell_type": "code",
      "execution_count": null,
      "id": "Qw3A8P10DqBR",
      "metadata": {
        "colab": {
          "base_uri": "https://localhost:8080/"
        },
        "id": "Qw3A8P10DqBR",
        "outputId": "60e482ac-ec56-4fd8-d9b8-312b504fc9c2"
      },
      "outputs": [
        {
          "data": {
            "text/plain": [
              "2    1597\n",
              "1     820\n",
              "0     583\n",
              "Name: count, dtype: int64"
            ]
          },
          "execution_count": 135,
          "metadata": {},
          "output_type": "execute_result"
        }
      ],
      "source": [
        "import pandas as pd\n",
        "pd.DataFrame(target).value_counts()"
      ]
    },
    {
      "cell_type": "markdown",
      "id": "maritime-warren",
      "metadata": {
        "id": "maritime-warren"
      },
      "source": [
        "## Preparar datos para el entrenamiento de la RNA\n",
        "En esta sección se excluyen la etapa de preprocesamiento de los datos, en la cual, se segue una metodología para asegurar la calidad de los datos. Así mismo, se excluye la etapa de análisis exploratorio de datos, en la cual, se eaplican técnicas de estadística descriptiva y, en algunos casos, inferencial. Por lo tanto, para efectos del taller, esta sección se restringue a la partición del conjunto original de datos para obtener los tres subconjguntos vitales en el entrenamiento y evaluación del modelo predictivo."
      ]
    },
    {
      "cell_type": "markdown",
      "id": "waiting-pizza",
      "metadata": {
        "id": "waiting-pizza"
      },
      "source": [
        "### Particionar datos"
      ]
    },
    {
      "cell_type": "code",
      "execution_count": null,
      "id": "5KnSXVxYVyxr",
      "metadata": {
        "colab": {
          "base_uri": "https://localhost:8080/"
        },
        "id": "5KnSXVxYVyxr",
        "outputId": "af45920c-6677-4f3a-ec35-7c200f0432fe"
      },
      "outputs": [
        {
          "name": "stdout",
          "output_type": "stream",
          "text": [
            "El tamaño de los nuevos subconjuntos es:  (1680, 35) (900, 35) (420, 35)\n",
            "Y es la variable que tiene las etiquetas de las clases a predecir:  (1680,) (900,) (420,)\n"
          ]
        }
      ],
      "source": [
        "## Particionar el conjunto de datos para crear datos de entrenamiento, evaluación y validación.\n",
        "sc = StandardScaler()\n",
        "Xsc = sc.fit(data)\n",
        "X = Xsc.transform(data)\n",
        "X.shape\n",
        "\n",
        "X_train, X_test, y_train, y_test = split(X,target,\n",
        "                                         test_size=0.30,\n",
        "                                         random_state=42,\n",
        "                                         stratify=target)\n",
        "X_train, X_valid, y_train, y_valid = split(X_train, y_train,\n",
        "                                           test_size=0.2,\n",
        "                                           stratify=y_train)\n",
        "print(\"El tamaño de los nuevos subconjuntos es: \", X_train.shape, X_test.shape, X_valid.shape)\n",
        "print(\"Y es la variable que tiene las etiquetas de las clases a predecir: \", y_train.shape, y_test.shape, y_valid.shape)"
      ]
    },
    {
      "cell_type": "markdown",
      "id": "h6XCkQXzYfYh",
      "metadata": {
        "id": "h6XCkQXzYfYh"
      },
      "source": [
        "### Transformación de etiquetas de la clase objetivo (Predicción Multiclase)"
      ]
    },
    {
      "cell_type": "code",
      "execution_count": null,
      "id": "productive-bunny",
      "metadata": {
        "id": "productive-bunny"
      },
      "outputs": [],
      "source": [
        "# #Transformación de las etiquetas requerida para el entrenamiento de RNA\n",
        "Y_train = np_utils.to_categorical(y_train)\n",
        "Y_test = np_utils.to_categorical(y_test)\n",
        "Y_valid = np_utils.to_categorical(y_valid)"
      ]
    },
    {
      "cell_type": "markdown",
      "id": "assured-conversation",
      "metadata": {
        "id": "assured-conversation"
      },
      "source": [
        "## Entrenamiento del modelo predictivo basado en RNA"
      ]
    },
    {
      "cell_type": "code",
      "execution_count": null,
      "id": "rJ5hcFCxa-c_",
      "metadata": {
        "id": "rJ5hcFCxa-c_"
      },
      "outputs": [],
      "source": [
        "# Optimización de hiperparámetros\n",
        "#funcion de activacion\n",
        "#loss\n",
        "#metrics\n",
        "#optimizer\n",
        "#learning_rate\n",
        "#epochs\n",
        "#batch_size"
      ]
    },
    {
      "cell_type": "markdown",
      "id": "external-sydney",
      "metadata": {
        "id": "external-sydney"
      },
      "source": [
        "### Diseño de la arquitectura del modelo de red neuronal artificial"
      ]
    },
    {
      "cell_type": "markdown",
      "id": "ychB9Bk6p4xq",
      "metadata": {
        "id": "ychB9Bk6p4xq"
      },
      "source": [
        "### Compilar el modelo creado"
      ]
    },
    {
      "cell_type": "code",
      "execution_count": null,
      "id": "subject-electric",
      "metadata": {
        "id": "subject-electric"
      },
      "outputs": [],
      "source": [
        "# Definir la arquitectura del modelo de la RNA\n",
        "modelRNA = models.Sequential()\n",
        "#sense(numero de neuronas en la 1 capa oculta, numero de entradas, funcion de activacion)\n",
        "\n",
        "#se cambia el numero de neuronas a 5\n",
        "modelRNA.add(Dense(7, batch_input_shape=(None, 35), activation='relu'))\n",
        "#se crea una nueva capa oculta con 5 neuronas y con el codigo de activacion relu.\n",
        "#no se agrega numero de entradas por que se desea aprovechas la libreria keras que nos permite manejar automaticamente el tamaño de las entradas de cada capa basada en la salida de la capa anterior\n",
        "modelRNA.add(Dense(7, activation='relu'))\n",
        "#se crea la capa de salida con 3 neuronas se usa el codigo softmax ya que nos permite usar las salidas en probabilidades que suman 1\n",
        "modelRNA.add(Dense(3, activation='softmax'))"
      ]
    },
    {
      "cell_type": "code",
      "execution_count": null,
      "id": "fmO_BWTTp8yS",
      "metadata": {
        "id": "fmO_BWTTp8yS"
      },
      "outputs": [],
      "source": [
        "# compile the keras (tensorflow) flow graph\n",
        "modelRNA.compile(optimizer=optimizers.RMSprop(learning_rate=0.001),\n",
        "              loss='binary_crossentropy',\n",
        "              metrics=['accuracy'])"
      ]
    },
    {
      "cell_type": "markdown",
      "id": "ZkxGCNZJpyIa",
      "metadata": {
        "id": "ZkxGCNZJpyIa"
      },
      "source": [
        "### Entrenamiento del modelo de RNA"
      ]
    },
    {
      "cell_type": "code",
      "execution_count": null,
      "id": "EuZG0sHJr-pz",
      "metadata": {
        "id": "EuZG0sHJr-pz"
      },
      "outputs": [],
      "source": [
        "# Inicializar el reloj para calcular tiempo de cómputo\n",
        "t0 = process_time()"
      ]
    },
    {
      "cell_type": "code",
      "execution_count": null,
      "id": "WEXqIZWeIjmt",
      "metadata": {
        "colab": {
          "base_uri": "https://localhost:8080/"
        },
        "id": "WEXqIZWeIjmt",
        "outputId": "6599c8a6-464c-45a8-b41c-9301e232acdb"
      },
      "outputs": [
        {
          "name": "stdout",
          "output_type": "stream",
          "text": [
            "Epoch 1/200\n",
            "53/53 [==============================] - 1s 5ms/step - loss: 0.6709 - accuracy: 0.4494 - val_loss: 0.6443 - val_accuracy: 0.5167\n",
            "Epoch 2/200\n",
            "53/53 [==============================] - 0s 2ms/step - loss: 0.6260 - accuracy: 0.5238 - val_loss: 0.6072 - val_accuracy: 0.5310\n",
            "Epoch 3/200\n",
            "53/53 [==============================] - 0s 3ms/step - loss: 0.5940 - accuracy: 0.5321 - val_loss: 0.5811 - val_accuracy: 0.5333\n",
            "Epoch 4/200\n",
            "53/53 [==============================] - 0s 3ms/step - loss: 0.5692 - accuracy: 0.5321 - val_loss: 0.5604 - val_accuracy: 0.5333\n",
            "Epoch 5/200\n",
            "53/53 [==============================] - 0s 3ms/step - loss: 0.5482 - accuracy: 0.5333 - val_loss: 0.5441 - val_accuracy: 0.5310\n",
            "Epoch 6/200\n",
            "53/53 [==============================] - 0s 3ms/step - loss: 0.5297 - accuracy: 0.5393 - val_loss: 0.5288 - val_accuracy: 0.5405\n",
            "Epoch 7/200\n",
            "53/53 [==============================] - 0s 3ms/step - loss: 0.5123 - accuracy: 0.5589 - val_loss: 0.5151 - val_accuracy: 0.5548\n",
            "Epoch 8/200\n",
            "53/53 [==============================] - 0s 3ms/step - loss: 0.4962 - accuracy: 0.5673 - val_loss: 0.5027 - val_accuracy: 0.5667\n",
            "Epoch 9/200\n",
            "53/53 [==============================] - 0s 2ms/step - loss: 0.4813 - accuracy: 0.5869 - val_loss: 0.4899 - val_accuracy: 0.5762\n",
            "Epoch 10/200\n",
            "53/53 [==============================] - 0s 3ms/step - loss: 0.4667 - accuracy: 0.6018 - val_loss: 0.4779 - val_accuracy: 0.5929\n",
            "Epoch 11/200\n",
            "53/53 [==============================] - 0s 3ms/step - loss: 0.4531 - accuracy: 0.6173 - val_loss: 0.4666 - val_accuracy: 0.6024\n",
            "Epoch 12/200\n",
            "53/53 [==============================] - 0s 2ms/step - loss: 0.4407 - accuracy: 0.6369 - val_loss: 0.4559 - val_accuracy: 0.6095\n",
            "Epoch 13/200\n",
            "53/53 [==============================] - 0s 4ms/step - loss: 0.4288 - accuracy: 0.6470 - val_loss: 0.4459 - val_accuracy: 0.6167\n",
            "Epoch 14/200\n",
            "53/53 [==============================] - 0s 4ms/step - loss: 0.4177 - accuracy: 0.6560 - val_loss: 0.4366 - val_accuracy: 0.6357\n",
            "Epoch 15/200\n",
            "53/53 [==============================] - 0s 5ms/step - loss: 0.4077 - accuracy: 0.6643 - val_loss: 0.4275 - val_accuracy: 0.6405\n",
            "Epoch 16/200\n",
            "53/53 [==============================] - 0s 5ms/step - loss: 0.3985 - accuracy: 0.6732 - val_loss: 0.4201 - val_accuracy: 0.6524\n",
            "Epoch 17/200\n",
            "53/53 [==============================] - 0s 4ms/step - loss: 0.3898 - accuracy: 0.6756 - val_loss: 0.4122 - val_accuracy: 0.6548\n",
            "Epoch 18/200\n",
            "53/53 [==============================] - 0s 3ms/step - loss: 0.3815 - accuracy: 0.6857 - val_loss: 0.4059 - val_accuracy: 0.6643\n",
            "Epoch 19/200\n",
            "53/53 [==============================] - 0s 4ms/step - loss: 0.3743 - accuracy: 0.7274 - val_loss: 0.4001 - val_accuracy: 0.7381\n",
            "Epoch 20/200\n",
            "53/53 [==============================] - 0s 4ms/step - loss: 0.3678 - accuracy: 0.7601 - val_loss: 0.3954 - val_accuracy: 0.7405\n",
            "Epoch 21/200\n",
            "53/53 [==============================] - 0s 4ms/step - loss: 0.3621 - accuracy: 0.7649 - val_loss: 0.3903 - val_accuracy: 0.7500\n",
            "Epoch 22/200\n",
            "53/53 [==============================] - 0s 4ms/step - loss: 0.3572 - accuracy: 0.7673 - val_loss: 0.3859 - val_accuracy: 0.7595\n",
            "Epoch 23/200\n",
            "53/53 [==============================] - 0s 3ms/step - loss: 0.3524 - accuracy: 0.7720 - val_loss: 0.3822 - val_accuracy: 0.7667\n",
            "Epoch 24/200\n",
            "53/53 [==============================] - 0s 4ms/step - loss: 0.3476 - accuracy: 0.7744 - val_loss: 0.3778 - val_accuracy: 0.7714\n",
            "Epoch 25/200\n",
            "53/53 [==============================] - 0s 4ms/step - loss: 0.3436 - accuracy: 0.7756 - val_loss: 0.3736 - val_accuracy: 0.7738\n",
            "Epoch 26/200\n",
            "53/53 [==============================] - 0s 4ms/step - loss: 0.3391 - accuracy: 0.7821 - val_loss: 0.3701 - val_accuracy: 0.7714\n",
            "Epoch 27/200\n",
            "53/53 [==============================] - 0s 5ms/step - loss: 0.3352 - accuracy: 0.7857 - val_loss: 0.3659 - val_accuracy: 0.7714\n",
            "Epoch 28/200\n",
            "53/53 [==============================] - 0s 5ms/step - loss: 0.3312 - accuracy: 0.7899 - val_loss: 0.3622 - val_accuracy: 0.7714\n",
            "Epoch 29/200\n",
            "53/53 [==============================] - 0s 4ms/step - loss: 0.3272 - accuracy: 0.7911 - val_loss: 0.3585 - val_accuracy: 0.7667\n",
            "Epoch 30/200\n",
            "53/53 [==============================] - 0s 4ms/step - loss: 0.3234 - accuracy: 0.7923 - val_loss: 0.3548 - val_accuracy: 0.7714\n",
            "Epoch 31/200\n",
            "53/53 [==============================] - 0s 4ms/step - loss: 0.3197 - accuracy: 0.7988 - val_loss: 0.3510 - val_accuracy: 0.7857\n",
            "Epoch 32/200\n",
            "53/53 [==============================] - 0s 5ms/step - loss: 0.3164 - accuracy: 0.8012 - val_loss: 0.3473 - val_accuracy: 0.7881\n",
            "Epoch 33/200\n",
            "53/53 [==============================] - 0s 4ms/step - loss: 0.3129 - accuracy: 0.8101 - val_loss: 0.3438 - val_accuracy: 0.7976\n",
            "Epoch 34/200\n",
            "53/53 [==============================] - 0s 3ms/step - loss: 0.3102 - accuracy: 0.8095 - val_loss: 0.3414 - val_accuracy: 0.8048\n",
            "Epoch 35/200\n",
            "53/53 [==============================] - 0s 3ms/step - loss: 0.3071 - accuracy: 0.8089 - val_loss: 0.3391 - val_accuracy: 0.8071\n",
            "Epoch 36/200\n",
            "53/53 [==============================] - 0s 2ms/step - loss: 0.3041 - accuracy: 0.8113 - val_loss: 0.3362 - val_accuracy: 0.8119\n",
            "Epoch 37/200\n",
            "53/53 [==============================] - 0s 3ms/step - loss: 0.3011 - accuracy: 0.8149 - val_loss: 0.3330 - val_accuracy: 0.8190\n",
            "Epoch 38/200\n",
            "53/53 [==============================] - 0s 3ms/step - loss: 0.2986 - accuracy: 0.8131 - val_loss: 0.3303 - val_accuracy: 0.8167\n",
            "Epoch 39/200\n",
            "53/53 [==============================] - 0s 3ms/step - loss: 0.2957 - accuracy: 0.8149 - val_loss: 0.3274 - val_accuracy: 0.8214\n",
            "Epoch 40/200\n",
            "53/53 [==============================] - 0s 3ms/step - loss: 0.2931 - accuracy: 0.8185 - val_loss: 0.3244 - val_accuracy: 0.8238\n",
            "Epoch 41/200\n",
            "53/53 [==============================] - 0s 3ms/step - loss: 0.2906 - accuracy: 0.8202 - val_loss: 0.3231 - val_accuracy: 0.8214\n",
            "Epoch 42/200\n",
            "53/53 [==============================] - 0s 3ms/step - loss: 0.2884 - accuracy: 0.8220 - val_loss: 0.3207 - val_accuracy: 0.8238\n",
            "Epoch 43/200\n",
            "53/53 [==============================] - 0s 3ms/step - loss: 0.2860 - accuracy: 0.8280 - val_loss: 0.3183 - val_accuracy: 0.8262\n",
            "Epoch 44/200\n",
            "53/53 [==============================] - 0s 3ms/step - loss: 0.2839 - accuracy: 0.8262 - val_loss: 0.3160 - val_accuracy: 0.8262\n",
            "Epoch 45/200\n",
            "53/53 [==============================] - 0s 3ms/step - loss: 0.2819 - accuracy: 0.8262 - val_loss: 0.3131 - val_accuracy: 0.8310\n",
            "Epoch 46/200\n",
            "53/53 [==============================] - 0s 3ms/step - loss: 0.2801 - accuracy: 0.8280 - val_loss: 0.3113 - val_accuracy: 0.8262\n",
            "Epoch 47/200\n",
            "53/53 [==============================] - 0s 2ms/step - loss: 0.2783 - accuracy: 0.8286 - val_loss: 0.3091 - val_accuracy: 0.8286\n",
            "Epoch 48/200\n",
            "53/53 [==============================] - 0s 3ms/step - loss: 0.2764 - accuracy: 0.8304 - val_loss: 0.3078 - val_accuracy: 0.8262\n",
            "Epoch 49/200\n",
            "53/53 [==============================] - 0s 3ms/step - loss: 0.2749 - accuracy: 0.8304 - val_loss: 0.3056 - val_accuracy: 0.8262\n",
            "Epoch 50/200\n",
            "53/53 [==============================] - 0s 3ms/step - loss: 0.2733 - accuracy: 0.8304 - val_loss: 0.3037 - val_accuracy: 0.8238\n",
            "Epoch 51/200\n",
            "53/53 [==============================] - 0s 3ms/step - loss: 0.2718 - accuracy: 0.8327 - val_loss: 0.3024 - val_accuracy: 0.8310\n",
            "Epoch 52/200\n",
            "53/53 [==============================] - 0s 3ms/step - loss: 0.2703 - accuracy: 0.8315 - val_loss: 0.3005 - val_accuracy: 0.8214\n",
            "Epoch 53/200\n",
            "53/53 [==============================] - 0s 3ms/step - loss: 0.2689 - accuracy: 0.8351 - val_loss: 0.2993 - val_accuracy: 0.8262\n",
            "Epoch 54/200\n",
            "53/53 [==============================] - 0s 3ms/step - loss: 0.2672 - accuracy: 0.8333 - val_loss: 0.2976 - val_accuracy: 0.8333\n",
            "Epoch 55/200\n",
            "53/53 [==============================] - 0s 3ms/step - loss: 0.2662 - accuracy: 0.8363 - val_loss: 0.2964 - val_accuracy: 0.8286\n",
            "Epoch 56/200\n",
            "53/53 [==============================] - 0s 3ms/step - loss: 0.2646 - accuracy: 0.8363 - val_loss: 0.2952 - val_accuracy: 0.8286\n",
            "Epoch 57/200\n",
            "53/53 [==============================] - 0s 3ms/step - loss: 0.2631 - accuracy: 0.8369 - val_loss: 0.2955 - val_accuracy: 0.8262\n",
            "Epoch 58/200\n",
            "53/53 [==============================] - 0s 2ms/step - loss: 0.2623 - accuracy: 0.8357 - val_loss: 0.2946 - val_accuracy: 0.8310\n",
            "Epoch 59/200\n",
            "53/53 [==============================] - 0s 3ms/step - loss: 0.2612 - accuracy: 0.8369 - val_loss: 0.2935 - val_accuracy: 0.8333\n",
            "Epoch 60/200\n",
            "53/53 [==============================] - 0s 3ms/step - loss: 0.2602 - accuracy: 0.8405 - val_loss: 0.2922 - val_accuracy: 0.8333\n",
            "Epoch 61/200\n",
            "53/53 [==============================] - 0s 3ms/step - loss: 0.2588 - accuracy: 0.8393 - val_loss: 0.2911 - val_accuracy: 0.8333\n",
            "Epoch 62/200\n",
            "53/53 [==============================] - 0s 3ms/step - loss: 0.2577 - accuracy: 0.8417 - val_loss: 0.2894 - val_accuracy: 0.8357\n",
            "Epoch 63/200\n",
            "53/53 [==============================] - 0s 3ms/step - loss: 0.2562 - accuracy: 0.8417 - val_loss: 0.2887 - val_accuracy: 0.8405\n",
            "Epoch 64/200\n",
            "53/53 [==============================] - 0s 2ms/step - loss: 0.2558 - accuracy: 0.8429 - val_loss: 0.2877 - val_accuracy: 0.8381\n",
            "Epoch 65/200\n",
            "53/53 [==============================] - 0s 3ms/step - loss: 0.2543 - accuracy: 0.8512 - val_loss: 0.2869 - val_accuracy: 0.8405\n",
            "Epoch 66/200\n",
            "53/53 [==============================] - 0s 3ms/step - loss: 0.2534 - accuracy: 0.8476 - val_loss: 0.2855 - val_accuracy: 0.8405\n",
            "Epoch 67/200\n",
            "53/53 [==============================] - 0s 2ms/step - loss: 0.2522 - accuracy: 0.8464 - val_loss: 0.2845 - val_accuracy: 0.8381\n",
            "Epoch 68/200\n",
            "53/53 [==============================] - 0s 3ms/step - loss: 0.2513 - accuracy: 0.8470 - val_loss: 0.2835 - val_accuracy: 0.8381\n",
            "Epoch 69/200\n",
            "53/53 [==============================] - 0s 3ms/step - loss: 0.2504 - accuracy: 0.8518 - val_loss: 0.2818 - val_accuracy: 0.8381\n",
            "Epoch 70/200\n",
            "53/53 [==============================] - 0s 3ms/step - loss: 0.2494 - accuracy: 0.8500 - val_loss: 0.2806 - val_accuracy: 0.8429\n",
            "Epoch 71/200\n",
            "53/53 [==============================] - 0s 2ms/step - loss: 0.2486 - accuracy: 0.8488 - val_loss: 0.2799 - val_accuracy: 0.8452\n",
            "Epoch 72/200\n",
            "53/53 [==============================] - 0s 3ms/step - loss: 0.2477 - accuracy: 0.8500 - val_loss: 0.2789 - val_accuracy: 0.8452\n",
            "Epoch 73/200\n",
            "53/53 [==============================] - 0s 3ms/step - loss: 0.2469 - accuracy: 0.8512 - val_loss: 0.2771 - val_accuracy: 0.8452\n",
            "Epoch 74/200\n",
            "53/53 [==============================] - 0s 3ms/step - loss: 0.2462 - accuracy: 0.8506 - val_loss: 0.2769 - val_accuracy: 0.8405\n",
            "Epoch 75/200\n",
            "53/53 [==============================] - 0s 3ms/step - loss: 0.2459 - accuracy: 0.8530 - val_loss: 0.2755 - val_accuracy: 0.8405\n",
            "Epoch 76/200\n",
            "53/53 [==============================] - 0s 3ms/step - loss: 0.2447 - accuracy: 0.8518 - val_loss: 0.2748 - val_accuracy: 0.8429\n",
            "Epoch 77/200\n",
            "53/53 [==============================] - 0s 3ms/step - loss: 0.2437 - accuracy: 0.8571 - val_loss: 0.2738 - val_accuracy: 0.8476\n",
            "Epoch 78/200\n",
            "53/53 [==============================] - 1s 9ms/step - loss: 0.2431 - accuracy: 0.8589 - val_loss: 0.2725 - val_accuracy: 0.8429\n",
            "Epoch 79/200\n",
            "53/53 [==============================] - 0s 2ms/step - loss: 0.2419 - accuracy: 0.8565 - val_loss: 0.2720 - val_accuracy: 0.8452\n",
            "Epoch 80/200\n",
            "53/53 [==============================] - 0s 3ms/step - loss: 0.2413 - accuracy: 0.8577 - val_loss: 0.2716 - val_accuracy: 0.8429\n",
            "Epoch 81/200\n",
            "53/53 [==============================] - 0s 3ms/step - loss: 0.2406 - accuracy: 0.8619 - val_loss: 0.2708 - val_accuracy: 0.8381\n",
            "Epoch 82/200\n",
            "53/53 [==============================] - 0s 3ms/step - loss: 0.2400 - accuracy: 0.8577 - val_loss: 0.2703 - val_accuracy: 0.8405\n",
            "Epoch 83/200\n",
            "53/53 [==============================] - 0s 3ms/step - loss: 0.2390 - accuracy: 0.8571 - val_loss: 0.2699 - val_accuracy: 0.8405\n",
            "Epoch 84/200\n",
            "53/53 [==============================] - 0s 2ms/step - loss: 0.2381 - accuracy: 0.8583 - val_loss: 0.2695 - val_accuracy: 0.8381\n",
            "Epoch 85/200\n",
            "53/53 [==============================] - 0s 3ms/step - loss: 0.2375 - accuracy: 0.8577 - val_loss: 0.2693 - val_accuracy: 0.8381\n",
            "Epoch 86/200\n",
            "53/53 [==============================] - 0s 3ms/step - loss: 0.2369 - accuracy: 0.8577 - val_loss: 0.2684 - val_accuracy: 0.8333\n",
            "Epoch 87/200\n",
            "53/53 [==============================] - 0s 3ms/step - loss: 0.2359 - accuracy: 0.8571 - val_loss: 0.2674 - val_accuracy: 0.8381\n",
            "Epoch 88/200\n",
            "53/53 [==============================] - 0s 3ms/step - loss: 0.2355 - accuracy: 0.8619 - val_loss: 0.2670 - val_accuracy: 0.8405\n",
            "Epoch 89/200\n",
            "53/53 [==============================] - 0s 3ms/step - loss: 0.2348 - accuracy: 0.8619 - val_loss: 0.2663 - val_accuracy: 0.8429\n",
            "Epoch 90/200\n",
            "53/53 [==============================] - 0s 3ms/step - loss: 0.2339 - accuracy: 0.8625 - val_loss: 0.2659 - val_accuracy: 0.8405\n",
            "Epoch 91/200\n",
            "53/53 [==============================] - 0s 3ms/step - loss: 0.2335 - accuracy: 0.8607 - val_loss: 0.2648 - val_accuracy: 0.8429\n",
            "Epoch 92/200\n",
            "53/53 [==============================] - 0s 3ms/step - loss: 0.2327 - accuracy: 0.8619 - val_loss: 0.2631 - val_accuracy: 0.8405\n",
            "Epoch 93/200\n",
            "53/53 [==============================] - 0s 3ms/step - loss: 0.2323 - accuracy: 0.8637 - val_loss: 0.2629 - val_accuracy: 0.8429\n",
            "Epoch 94/200\n",
            "53/53 [==============================] - 0s 3ms/step - loss: 0.2318 - accuracy: 0.8637 - val_loss: 0.2633 - val_accuracy: 0.8429\n",
            "Epoch 95/200\n",
            "53/53 [==============================] - 0s 3ms/step - loss: 0.2310 - accuracy: 0.8679 - val_loss: 0.2630 - val_accuracy: 0.8405\n",
            "Epoch 96/200\n",
            "53/53 [==============================] - 0s 3ms/step - loss: 0.2307 - accuracy: 0.8661 - val_loss: 0.2630 - val_accuracy: 0.8429\n",
            "Epoch 97/200\n",
            "53/53 [==============================] - 0s 4ms/step - loss: 0.2300 - accuracy: 0.8702 - val_loss: 0.2627 - val_accuracy: 0.8381\n",
            "Epoch 98/200\n",
            "53/53 [==============================] - 0s 5ms/step - loss: 0.2297 - accuracy: 0.8655 - val_loss: 0.2622 - val_accuracy: 0.8405\n",
            "Epoch 99/200\n",
            "53/53 [==============================] - 0s 5ms/step - loss: 0.2290 - accuracy: 0.8667 - val_loss: 0.2612 - val_accuracy: 0.8452\n",
            "Epoch 100/200\n",
            "53/53 [==============================] - 0s 4ms/step - loss: 0.2285 - accuracy: 0.8667 - val_loss: 0.2601 - val_accuracy: 0.8452\n",
            "Epoch 101/200\n",
            "53/53 [==============================] - 0s 4ms/step - loss: 0.2282 - accuracy: 0.8661 - val_loss: 0.2603 - val_accuracy: 0.8429\n",
            "Epoch 102/200\n",
            "53/53 [==============================] - 0s 4ms/step - loss: 0.2276 - accuracy: 0.8667 - val_loss: 0.2607 - val_accuracy: 0.8405\n",
            "Epoch 103/200\n",
            "53/53 [==============================] - 0s 5ms/step - loss: 0.2270 - accuracy: 0.8696 - val_loss: 0.2604 - val_accuracy: 0.8405\n",
            "Epoch 104/200\n",
            "53/53 [==============================] - 0s 3ms/step - loss: 0.2266 - accuracy: 0.8679 - val_loss: 0.2602 - val_accuracy: 0.8405\n",
            "Epoch 105/200\n",
            "53/53 [==============================] - 0s 5ms/step - loss: 0.2259 - accuracy: 0.8679 - val_loss: 0.2598 - val_accuracy: 0.8429\n",
            "Epoch 106/200\n",
            "53/53 [==============================] - 0s 4ms/step - loss: 0.2258 - accuracy: 0.8685 - val_loss: 0.2596 - val_accuracy: 0.8429\n",
            "Epoch 107/200\n",
            "53/53 [==============================] - 0s 4ms/step - loss: 0.2253 - accuracy: 0.8685 - val_loss: 0.2586 - val_accuracy: 0.8429\n",
            "Epoch 108/200\n",
            "53/53 [==============================] - 0s 4ms/step - loss: 0.2249 - accuracy: 0.8679 - val_loss: 0.2583 - val_accuracy: 0.8429\n",
            "Epoch 109/200\n",
            "53/53 [==============================] - 0s 5ms/step - loss: 0.2246 - accuracy: 0.8708 - val_loss: 0.2582 - val_accuracy: 0.8429\n",
            "Epoch 110/200\n",
            "53/53 [==============================] - 0s 4ms/step - loss: 0.2244 - accuracy: 0.8690 - val_loss: 0.2584 - val_accuracy: 0.8429\n",
            "Epoch 111/200\n",
            "53/53 [==============================] - 0s 4ms/step - loss: 0.2236 - accuracy: 0.8738 - val_loss: 0.2576 - val_accuracy: 0.8405\n",
            "Epoch 112/200\n",
            "53/53 [==============================] - 0s 4ms/step - loss: 0.2233 - accuracy: 0.8702 - val_loss: 0.2576 - val_accuracy: 0.8405\n",
            "Epoch 113/200\n",
            "53/53 [==============================] - 0s 6ms/step - loss: 0.2229 - accuracy: 0.8690 - val_loss: 0.2578 - val_accuracy: 0.8452\n",
            "Epoch 114/200\n",
            "53/53 [==============================] - 0s 4ms/step - loss: 0.2227 - accuracy: 0.8685 - val_loss: 0.2570 - val_accuracy: 0.8429\n",
            "Epoch 115/200\n",
            "53/53 [==============================] - 0s 4ms/step - loss: 0.2219 - accuracy: 0.8690 - val_loss: 0.2568 - val_accuracy: 0.8452\n",
            "Epoch 116/200\n",
            "53/53 [==============================] - 0s 3ms/step - loss: 0.2218 - accuracy: 0.8708 - val_loss: 0.2562 - val_accuracy: 0.8452\n",
            "Epoch 117/200\n",
            "53/53 [==============================] - 0s 3ms/step - loss: 0.2216 - accuracy: 0.8702 - val_loss: 0.2560 - val_accuracy: 0.8429\n",
            "Epoch 118/200\n",
            "53/53 [==============================] - 0s 3ms/step - loss: 0.2214 - accuracy: 0.8708 - val_loss: 0.2559 - val_accuracy: 0.8429\n",
            "Epoch 119/200\n",
            "53/53 [==============================] - 0s 3ms/step - loss: 0.2208 - accuracy: 0.8679 - val_loss: 0.2563 - val_accuracy: 0.8429\n",
            "Epoch 120/200\n",
            "53/53 [==============================] - 0s 3ms/step - loss: 0.2205 - accuracy: 0.8702 - val_loss: 0.2556 - val_accuracy: 0.8452\n",
            "Epoch 121/200\n",
            "53/53 [==============================] - 0s 3ms/step - loss: 0.2201 - accuracy: 0.8714 - val_loss: 0.2560 - val_accuracy: 0.8452\n",
            "Epoch 122/200\n",
            "53/53 [==============================] - 0s 3ms/step - loss: 0.2198 - accuracy: 0.8738 - val_loss: 0.2561 - val_accuracy: 0.8452\n",
            "Epoch 123/200\n",
            "53/53 [==============================] - 0s 3ms/step - loss: 0.2196 - accuracy: 0.8696 - val_loss: 0.2569 - val_accuracy: 0.8452\n",
            "Epoch 124/200\n",
            "53/53 [==============================] - 0s 3ms/step - loss: 0.2190 - accuracy: 0.8714 - val_loss: 0.2561 - val_accuracy: 0.8452\n",
            "Epoch 125/200\n",
            "53/53 [==============================] - 0s 3ms/step - loss: 0.2189 - accuracy: 0.8714 - val_loss: 0.2570 - val_accuracy: 0.8452\n",
            "Epoch 126/200\n",
            "53/53 [==============================] - 0s 3ms/step - loss: 0.2184 - accuracy: 0.8714 - val_loss: 0.2569 - val_accuracy: 0.8452\n",
            "Epoch 127/200\n",
            "53/53 [==============================] - 0s 3ms/step - loss: 0.2183 - accuracy: 0.8726 - val_loss: 0.2575 - val_accuracy: 0.8452\n",
            "Epoch 128/200\n",
            "53/53 [==============================] - 0s 3ms/step - loss: 0.2182 - accuracy: 0.8702 - val_loss: 0.2582 - val_accuracy: 0.8452\n",
            "Epoch 129/200\n",
            "53/53 [==============================] - 0s 3ms/step - loss: 0.2175 - accuracy: 0.8726 - val_loss: 0.2582 - val_accuracy: 0.8452\n",
            "Epoch 130/200\n",
            "53/53 [==============================] - 0s 3ms/step - loss: 0.2175 - accuracy: 0.8750 - val_loss: 0.2572 - val_accuracy: 0.8452\n",
            "Epoch 131/200\n",
            "53/53 [==============================] - 0s 3ms/step - loss: 0.2170 - accuracy: 0.8726 - val_loss: 0.2564 - val_accuracy: 0.8452\n",
            "Epoch 132/200\n",
            "53/53 [==============================] - 0s 3ms/step - loss: 0.2169 - accuracy: 0.8720 - val_loss: 0.2566 - val_accuracy: 0.8429\n",
            "Epoch 133/200\n",
            "53/53 [==============================] - 0s 3ms/step - loss: 0.2163 - accuracy: 0.8720 - val_loss: 0.2552 - val_accuracy: 0.8476\n",
            "Epoch 134/200\n",
            "53/53 [==============================] - 0s 3ms/step - loss: 0.2161 - accuracy: 0.8732 - val_loss: 0.2554 - val_accuracy: 0.8476\n",
            "Epoch 135/200\n",
            "53/53 [==============================] - 0s 3ms/step - loss: 0.2156 - accuracy: 0.8732 - val_loss: 0.2565 - val_accuracy: 0.8452\n",
            "Epoch 136/200\n",
            "53/53 [==============================] - 0s 3ms/step - loss: 0.2154 - accuracy: 0.8732 - val_loss: 0.2572 - val_accuracy: 0.8452\n",
            "Epoch 137/200\n",
            "53/53 [==============================] - 0s 3ms/step - loss: 0.2150 - accuracy: 0.8762 - val_loss: 0.2567 - val_accuracy: 0.8405\n",
            "Epoch 138/200\n",
            "53/53 [==============================] - 0s 3ms/step - loss: 0.2147 - accuracy: 0.8750 - val_loss: 0.2564 - val_accuracy: 0.8476\n",
            "Epoch 139/200\n",
            "53/53 [==============================] - 0s 3ms/step - loss: 0.2141 - accuracy: 0.8744 - val_loss: 0.2569 - val_accuracy: 0.8429\n",
            "Epoch 140/200\n",
            "53/53 [==============================] - 0s 3ms/step - loss: 0.2145 - accuracy: 0.8744 - val_loss: 0.2567 - val_accuracy: 0.8452\n",
            "Epoch 141/200\n",
            "53/53 [==============================] - 0s 3ms/step - loss: 0.2137 - accuracy: 0.8750 - val_loss: 0.2569 - val_accuracy: 0.8476\n",
            "Epoch 142/200\n",
            "53/53 [==============================] - 0s 3ms/step - loss: 0.2135 - accuracy: 0.8756 - val_loss: 0.2570 - val_accuracy: 0.8476\n",
            "Epoch 143/200\n",
            "53/53 [==============================] - 0s 3ms/step - loss: 0.2135 - accuracy: 0.8720 - val_loss: 0.2569 - val_accuracy: 0.8476\n",
            "Epoch 144/200\n",
            "53/53 [==============================] - 0s 3ms/step - loss: 0.2129 - accuracy: 0.8768 - val_loss: 0.2579 - val_accuracy: 0.8429\n",
            "Epoch 145/200\n",
            "53/53 [==============================] - 0s 3ms/step - loss: 0.2130 - accuracy: 0.8768 - val_loss: 0.2578 - val_accuracy: 0.8452\n",
            "Epoch 146/200\n",
            "53/53 [==============================] - 0s 3ms/step - loss: 0.2123 - accuracy: 0.8744 - val_loss: 0.2567 - val_accuracy: 0.8476\n",
            "Epoch 147/200\n",
            "53/53 [==============================] - 0s 3ms/step - loss: 0.2124 - accuracy: 0.8786 - val_loss: 0.2583 - val_accuracy: 0.8452\n",
            "Epoch 148/200\n",
            "53/53 [==============================] - 0s 3ms/step - loss: 0.2121 - accuracy: 0.8756 - val_loss: 0.2585 - val_accuracy: 0.8452\n",
            "Epoch 149/200\n",
            "53/53 [==============================] - 0s 3ms/step - loss: 0.2118 - accuracy: 0.8768 - val_loss: 0.2578 - val_accuracy: 0.8452\n",
            "Epoch 150/200\n",
            "53/53 [==============================] - 0s 3ms/step - loss: 0.2114 - accuracy: 0.8774 - val_loss: 0.2592 - val_accuracy: 0.8476\n",
            "Epoch 151/200\n",
            "53/53 [==============================] - 0s 3ms/step - loss: 0.2113 - accuracy: 0.8768 - val_loss: 0.2585 - val_accuracy: 0.8452\n",
            "Epoch 152/200\n",
            "53/53 [==============================] - 0s 3ms/step - loss: 0.2112 - accuracy: 0.8780 - val_loss: 0.2586 - val_accuracy: 0.8429\n",
            "Epoch 153/200\n",
            "53/53 [==============================] - 0s 3ms/step - loss: 0.2111 - accuracy: 0.8762 - val_loss: 0.2581 - val_accuracy: 0.8476\n",
            "Epoch 154/200\n",
            "53/53 [==============================] - 0s 3ms/step - loss: 0.2113 - accuracy: 0.8762 - val_loss: 0.2583 - val_accuracy: 0.8452\n",
            "Epoch 155/200\n",
            "53/53 [==============================] - 0s 3ms/step - loss: 0.2103 - accuracy: 0.8786 - val_loss: 0.2580 - val_accuracy: 0.8476\n",
            "Epoch 156/200\n",
            "53/53 [==============================] - 0s 3ms/step - loss: 0.2103 - accuracy: 0.8780 - val_loss: 0.2579 - val_accuracy: 0.8524\n",
            "Epoch 157/200\n",
            "53/53 [==============================] - 0s 3ms/step - loss: 0.2102 - accuracy: 0.8780 - val_loss: 0.2577 - val_accuracy: 0.8524\n",
            "Epoch 158/200\n",
            "53/53 [==============================] - 0s 3ms/step - loss: 0.2096 - accuracy: 0.8780 - val_loss: 0.2584 - val_accuracy: 0.8524\n",
            "Epoch 159/200\n",
            "53/53 [==============================] - 0s 3ms/step - loss: 0.2099 - accuracy: 0.8780 - val_loss: 0.2585 - val_accuracy: 0.8500\n",
            "Epoch 160/200\n",
            "53/53 [==============================] - 0s 3ms/step - loss: 0.2093 - accuracy: 0.8744 - val_loss: 0.2595 - val_accuracy: 0.8500\n",
            "Epoch 161/200\n",
            "53/53 [==============================] - 0s 3ms/step - loss: 0.2090 - accuracy: 0.8786 - val_loss: 0.2593 - val_accuracy: 0.8452\n",
            "Epoch 162/200\n",
            "53/53 [==============================] - 0s 3ms/step - loss: 0.2089 - accuracy: 0.8792 - val_loss: 0.2591 - val_accuracy: 0.8500\n",
            "Epoch 163/200\n",
            "53/53 [==============================] - 0s 3ms/step - loss: 0.2087 - accuracy: 0.8786 - val_loss: 0.2596 - val_accuracy: 0.8452\n",
            "Epoch 164/200\n",
            "53/53 [==============================] - 0s 3ms/step - loss: 0.2084 - accuracy: 0.8780 - val_loss: 0.2600 - val_accuracy: 0.8476\n",
            "Epoch 165/200\n",
            "53/53 [==============================] - 0s 3ms/step - loss: 0.2077 - accuracy: 0.8786 - val_loss: 0.2600 - val_accuracy: 0.8476\n",
            "Epoch 166/200\n",
            "53/53 [==============================] - 0s 3ms/step - loss: 0.2081 - accuracy: 0.8774 - val_loss: 0.2599 - val_accuracy: 0.8476\n",
            "Epoch 167/200\n",
            "53/53 [==============================] - 0s 3ms/step - loss: 0.2074 - accuracy: 0.8821 - val_loss: 0.2595 - val_accuracy: 0.8476\n",
            "Epoch 168/200\n",
            "53/53 [==============================] - 0s 3ms/step - loss: 0.2074 - accuracy: 0.8798 - val_loss: 0.2609 - val_accuracy: 0.8476\n",
            "Epoch 169/200\n",
            "53/53 [==============================] - 0s 3ms/step - loss: 0.2073 - accuracy: 0.8774 - val_loss: 0.2610 - val_accuracy: 0.8452\n",
            "Epoch 170/200\n",
            "53/53 [==============================] - 0s 3ms/step - loss: 0.2070 - accuracy: 0.8804 - val_loss: 0.2611 - val_accuracy: 0.8476\n",
            "Epoch 171/200\n",
            "53/53 [==============================] - 0s 3ms/step - loss: 0.2072 - accuracy: 0.8827 - val_loss: 0.2620 - val_accuracy: 0.8452\n",
            "Epoch 172/200\n",
            "53/53 [==============================] - 0s 3ms/step - loss: 0.2067 - accuracy: 0.8780 - val_loss: 0.2627 - val_accuracy: 0.8405\n",
            "Epoch 173/200\n",
            "53/53 [==============================] - 0s 3ms/step - loss: 0.2065 - accuracy: 0.8804 - val_loss: 0.2622 - val_accuracy: 0.8452\n",
            "Epoch 174/200\n",
            "53/53 [==============================] - 0s 3ms/step - loss: 0.2059 - accuracy: 0.8821 - val_loss: 0.2624 - val_accuracy: 0.8452\n",
            "Epoch 175/200\n",
            "53/53 [==============================] - 0s 3ms/step - loss: 0.2062 - accuracy: 0.8792 - val_loss: 0.2636 - val_accuracy: 0.8452\n",
            "Epoch 176/200\n",
            "53/53 [==============================] - 0s 3ms/step - loss: 0.2057 - accuracy: 0.8792 - val_loss: 0.2622 - val_accuracy: 0.8452\n",
            "Epoch 177/200\n",
            "53/53 [==============================] - 0s 3ms/step - loss: 0.2055 - accuracy: 0.8774 - val_loss: 0.2634 - val_accuracy: 0.8476\n",
            "Epoch 178/200\n",
            "53/53 [==============================] - 0s 3ms/step - loss: 0.2053 - accuracy: 0.8815 - val_loss: 0.2632 - val_accuracy: 0.8452\n",
            "Epoch 179/200\n",
            "53/53 [==============================] - 0s 3ms/step - loss: 0.2049 - accuracy: 0.8774 - val_loss: 0.2623 - val_accuracy: 0.8500\n",
            "Epoch 180/200\n",
            "53/53 [==============================] - 0s 4ms/step - loss: 0.2051 - accuracy: 0.8815 - val_loss: 0.2621 - val_accuracy: 0.8476\n",
            "Epoch 181/200\n",
            "53/53 [==============================] - 0s 4ms/step - loss: 0.2047 - accuracy: 0.8786 - val_loss: 0.2632 - val_accuracy: 0.8476\n",
            "Epoch 182/200\n",
            "53/53 [==============================] - 0s 4ms/step - loss: 0.2043 - accuracy: 0.8810 - val_loss: 0.2639 - val_accuracy: 0.8429\n",
            "Epoch 183/200\n",
            "53/53 [==============================] - 0s 4ms/step - loss: 0.2043 - accuracy: 0.8810 - val_loss: 0.2631 - val_accuracy: 0.8452\n",
            "Epoch 184/200\n",
            "53/53 [==============================] - 0s 4ms/step - loss: 0.2037 - accuracy: 0.8810 - val_loss: 0.2640 - val_accuracy: 0.8429\n",
            "Epoch 185/200\n",
            "53/53 [==============================] - 0s 5ms/step - loss: 0.2038 - accuracy: 0.8786 - val_loss: 0.2640 - val_accuracy: 0.8429\n",
            "Epoch 186/200\n",
            "53/53 [==============================] - 0s 4ms/step - loss: 0.2033 - accuracy: 0.8786 - val_loss: 0.2646 - val_accuracy: 0.8429\n",
            "Epoch 187/200\n",
            "53/53 [==============================] - 0s 4ms/step - loss: 0.2026 - accuracy: 0.8804 - val_loss: 0.2628 - val_accuracy: 0.8500\n",
            "Epoch 188/200\n",
            "53/53 [==============================] - 0s 4ms/step - loss: 0.2030 - accuracy: 0.8804 - val_loss: 0.2629 - val_accuracy: 0.8476\n",
            "Epoch 189/200\n",
            "53/53 [==============================] - 0s 4ms/step - loss: 0.2028 - accuracy: 0.8810 - val_loss: 0.2642 - val_accuracy: 0.8452\n",
            "Epoch 190/200\n",
            "53/53 [==============================] - 0s 5ms/step - loss: 0.2026 - accuracy: 0.8798 - val_loss: 0.2650 - val_accuracy: 0.8429\n",
            "Epoch 191/200\n",
            "53/53 [==============================] - 0s 4ms/step - loss: 0.2024 - accuracy: 0.8815 - val_loss: 0.2643 - val_accuracy: 0.8452\n",
            "Epoch 192/200\n",
            "53/53 [==============================] - 0s 5ms/step - loss: 0.2022 - accuracy: 0.8810 - val_loss: 0.2652 - val_accuracy: 0.8429\n",
            "Epoch 193/200\n",
            "53/53 [==============================] - 0s 5ms/step - loss: 0.2019 - accuracy: 0.8810 - val_loss: 0.2660 - val_accuracy: 0.8452\n",
            "Epoch 194/200\n",
            "53/53 [==============================] - 0s 5ms/step - loss: 0.2020 - accuracy: 0.8815 - val_loss: 0.2654 - val_accuracy: 0.8452\n",
            "Epoch 195/200\n",
            "53/53 [==============================] - 0s 5ms/step - loss: 0.2014 - accuracy: 0.8833 - val_loss: 0.2651 - val_accuracy: 0.8429\n",
            "Epoch 196/200\n",
            "53/53 [==============================] - 0s 5ms/step - loss: 0.2015 - accuracy: 0.8821 - val_loss: 0.2636 - val_accuracy: 0.8476\n",
            "Epoch 197/200\n",
            "53/53 [==============================] - 0s 5ms/step - loss: 0.2011 - accuracy: 0.8821 - val_loss: 0.2639 - val_accuracy: 0.8452\n",
            "Epoch 198/200\n",
            "53/53 [==============================] - 0s 6ms/step - loss: 0.2010 - accuracy: 0.8815 - val_loss: 0.2636 - val_accuracy: 0.8452\n",
            "Epoch 199/200\n",
            "53/53 [==============================] - 0s 3ms/step - loss: 0.2007 - accuracy: 0.8833 - val_loss: 0.2643 - val_accuracy: 0.8452\n",
            "Epoch 200/200\n",
            "53/53 [==============================] - 0s 3ms/step - loss: 0.2006 - accuracy: 0.8815 - val_loss: 0.2654 - val_accuracy: 0.8452\n"
          ]
        }
      ],
      "source": [
        "training_log = modelRNA.fit(X_train,\n",
        "                    Y_train,\n",
        "                    epochs=200,\n",
        "                    batch_size=32,\n",
        "                    validation_data=(X_valid, Y_valid),\n",
        "                    verbose=1)"
      ]
    },
    {
      "cell_type": "code",
      "execution_count": null,
      "id": "ns4XH0KkryiK",
      "metadata": {
        "colab": {
          "base_uri": "https://localhost:8080/"
        },
        "id": "ns4XH0KkryiK",
        "outputId": "33032566-9166-484e-c1b7-3a6bbbbe9ef4"
      },
      "outputs": [
        {
          "name": "stdout",
          "output_type": "stream",
          "text": [
            "El tiempo de cómputo con RNA fue: 37.88 segundos\n"
          ]
        }
      ],
      "source": [
        "# # Tiempo de computo\n",
        "t1 = process_time()\n",
        "tc = t1-t0\n",
        "\n",
        "# # Mostrar tiempo de cómputo del entrenamiento del modelo de RNA\n",
        "print('El tiempo de cómputo con RNA fue: %.2f segundos' % tc)"
      ]
    },
    {
      "cell_type": "markdown",
      "id": "kt-1kPj1t2y_",
      "metadata": {
        "id": "kt-1kPj1t2y_"
      },
      "source": [
        "### Predicción"
      ]
    },
    {
      "cell_type": "code",
      "execution_count": null,
      "id": "s2V_K7x8t4LQ",
      "metadata": {
        "colab": {
          "base_uri": "https://localhost:8080/"
        },
        "id": "s2V_K7x8t4LQ",
        "outputId": "9e8fc0f9-94dc-4442-f28c-10640de5e996"
      },
      "outputs": [
        {
          "name": "stdout",
          "output_type": "stream",
          "text": [
            "29/29 [==============================] - 0s 1ms/step\n",
            "(900,)\n"
          ]
        }
      ],
      "source": [
        "X_pred = modelRNA.predict(X_test, batch_size = 32, verbose=1)\n",
        "y_pred = np.argmax(X_pred, axis=1)\n",
        "print(y_pred.shape)"
      ]
    },
    {
      "cell_type": "markdown",
      "id": "0Z0yUZ0dqgIz",
      "metadata": {
        "id": "0Z0yUZ0dqgIz"
      },
      "source": [
        "## Evaluación del modelo entrenado"
      ]
    },
    {
      "cell_type": "markdown",
      "id": "NFH5y6qOqio9",
      "metadata": {
        "id": "NFH5y6qOqio9"
      },
      "source": [
        "### Gráficas de pérdida de entrenamiento y validación"
      ]
    },
    {
      "cell_type": "code",
      "execution_count": null,
      "id": "internal-hudson",
      "metadata": {
        "colab": {
          "base_uri": "https://localhost:8080/",
          "height": 490
        },
        "id": "internal-hudson",
        "outputId": "d005a114-cd91-4903-b3b5-6feb8cda4dee"
      },
      "outputs": [
        {
          "data": {
            "image/png": "[encoded data removed]",
            "text/plain": [
              "<Figure size 1600x500 with 2 Axes>"
            ]
          },
          "metadata": {},
          "output_type": "display_data"
        }
      ],
      "source": [
        "# Gráficas de pérdidas en entrenamiento y validación\n",
        "loss = training_log.history['loss']\n",
        "val_loss = training_log.history['val_loss']\n",
        "epochs = range(1, len(val_loss) + 1)\n",
        "\n",
        "# Gráfica comparativa: pérdida en entrenamiento\n",
        "plt.figure(figsize=(16, 5))\n",
        "plt.subplot(1, 2, 1)\n",
        "plt.plot(epochs, loss, 'g*--', label=\"Perceptrón 5 capas\")\n",
        "plt.title('Pérdida en el entrenamiento arquitectura ARN')\n",
        "plt.xlabel('Épocas')\n",
        "plt.ylabel('Pérdida')\n",
        "plt.legend(loc=\"upper center\", fontsize=\"small\")\n",
        "plt.legend()\n",
        "plt.grid(True)\n",
        "\n",
        "# Gráfica comparativa: pérdida en validación\n",
        "plt.subplot(1, 2, 2)\n",
        "plt.plot(epochs, val_loss, 'b*--', label=\"Perceptrón 5 capas\")\n",
        "plt.title('Pérdida en la validación arquitectura ARN')\n",
        "plt.xlabel('Épocas')\n",
        "plt.ylabel('Pérdida')\n",
        "plt.legend(loc=\"upper center\", fontsize=\"small\")\n",
        "plt.legend()\n",
        "plt.grid(True)\n",
        "plt.show()"
      ]
    },
    {
      "cell_type": "markdown",
      "id": "o_wQRzRnq3K8",
      "metadata": {
        "id": "o_wQRzRnq3K8"
      },
      "source": [
        "### Visualizar reporte del entrenamiento de la RNA"
      ]
    },
    {
      "cell_type": "code",
      "execution_count": null,
      "id": "reliable-resort",
      "metadata": {
        "colab": {
          "base_uri": "https://localhost:8080/"
        },
        "id": "reliable-resort",
        "outputId": "1a6a6cae-2a42-4179-8c9f-d3ade968a712"
      },
      "outputs": [
        {
          "name": "stdout",
          "output_type": "stream",
          "text": [
            "\n",
            "               precision    recall  f1-score   support\n",
            "\n",
            "           0      0.842     0.703     0.766       175\n",
            "           1      0.677     0.707     0.692       246\n",
            "           2      0.875     0.908     0.891       479\n",
            "\n",
            "    accuracy                          0.813       900\n",
            "   macro avg      0.798     0.773     0.783       900\n",
            "weighted avg      0.815     0.813     0.813       900\n",
            "\n"
          ]
        }
      ],
      "source": [
        "# Métricas de desempeño\n",
        "# Mostrar la precisión, recall, F1-score\n",
        "print(\"\\n\", classification_report(y_test, y_pred, digits=3))"
      ]
    },
    {
      "cell_type": "markdown",
      "id": "7MPa73-zrCAr",
      "metadata": {
        "id": "7MPa73-zrCAr"
      },
      "source": [
        "### Visualizar matriz de confusión"
      ]
    },
    {
      "cell_type": "code",
      "execution_count": null,
      "id": "opened-quantity",
      "metadata": {
        "colab": {
          "base_uri": "https://localhost:8080/",
          "height": 526
        },
        "id": "opened-quantity",
        "outputId": "2faeb798-f46e-47eb-d025-e484ea6affc5"
      },
      "outputs": [
        {
          "data": {
            "image/png": "[encoded data removed]",
            "text/plain": [
              "<Figure size 640x480 with 1 Axes>"
            ]
          },
          "metadata": {},
          "output_type": "display_data"
        }
      ],
      "source": [
        "# Matriz de confusión\n",
        "# cm = metrics.confusion_matrix(Y_test.argmax(axis=1),\n",
        "#                               Y_pred.argmax(axis=1))\n",
        "cm = confusion_matrix(y_test, y_pred)\n",
        "plt.imshow(cm, interpolation='nearest', cmap=plt.cm.Wistia)\n",
        "classNames = ['RCV bajo','RCV latente', 'RCV alto']\n",
        "plt.title('Matriz de confusión modelo predictivo RCV')\n",
        "plt.ylabel('True label')\n",
        "plt.xlabel('Predicted label')\n",
        "tick_marks = np.arange(len(classNames))\n",
        "plt.xticks(tick_marks, classNames, rotation=45)\n",
        "plt.yticks(tick_marks, classNames)\n",
        "for i in range(3):\n",
        "    for j in range(3):\n",
        "        plt.text(j,i, str(cm[i][j]))"
      ]
    },
    {
      "cell_type": "markdown",
      "id": "fI_T7Ud8Myl6",
      "metadata": {
        "id": "fI_T7Ud8Myl6"
      },
      "source": [
        "### Curva ROC\n"
      ]
    },
    {
      "cell_type": "code",
      "execution_count": null,
      "id": "HysJdDp7M01I",
      "metadata": {
        "colab": {
          "base_uri": "https://localhost:8080/",
          "height": 472
        },
        "id": "HysJdDp7M01I",
        "outputId": "dda5f4ef-0220-4aed-d3bd-3e99bb1c5ec3"
      },
      "outputs": [
        {
          "data": {
            "image/png": "[encoded data removed]",
            "text/plain": [
              "<Figure size 640x480 with 1 Axes>"
            ]
          },
          "metadata": {},
          "output_type": "display_data"
        }
      ],
      "source": [
        "# Curva ROC\n",
        "# #https://stackabuse.com/understanding-roc-curves-with-python/\n",
        "Y_pred = np_utils.to_categorical(y_pred)\n",
        "auc = roc_auc_score(Y_test, Y_pred)\n",
        "fpr, tpr, threshold = roc_curve(Y_test[:,0], Y_pred[:,0])\n",
        "font = {'family': 'serif',\n",
        "    'color':  'darkred',\n",
        "    'weight': 'normal',\n",
        "    'size': 16,\n",
        "    }\n",
        "plt.plot(fpr, tpr, color='green', label='ROC RCV bajo')\n",
        "plt.plot([0, 1], [0, 1], color='black', linestyle='--')\n",
        "plt.xlabel('Tasa de Falsos Positivos')\n",
        "plt.ylabel('Tasa de Verdaderos Postivos')\n",
        "plt.title('Curva ROC RNA')\n",
        "fpr, tpr, threshold = roc_curve(Y_test[:,1], Y_pred[:,1])\n",
        "plt.plot(fpr, tpr, color='darkblue', label='ROC RCV latente')\n",
        "fpr, tpr, threshold = roc_curve(Y_test[:,2], Y_pred[:,2])\n",
        "plt.plot(fpr, tpr, color='orange', label='ROC RCV alto')\n",
        "plt.text(0.7, 0.55, 'AUC: %.2f' % auc, fontdict=font)\n",
        "plt.legend()\n",
        "plt.show()"
      ]
    },
    {
      "cell_type": "code",
      "execution_count": null,
      "id": "substantial-killer",
      "metadata": {
        "id": "substantial-killer"
      },
      "outputs": [],
      "source": [
        "#Guardar modelo\n",
        "# import pickle\n",
        "# pickle.dump(modelRNA, open('RNA_RCV_01.pkl', 'wb'))\n",
        "\n",
        "# #Cargar modelo almacenado\n",
        "# model = pickle.load(open('RNA_RCV_01.pkl', 'rb'))\n",
        "# result_val = model.score(X_valid, y_valid)\n",
        "# result_test = model.score(X_test, y_test)\n",
        "# print(result_val)\n",
        "# print(result_test)"
      ]
    },
    {
      "cell_type": "markdown",
      "id": "acceptable-knowing",
      "metadata": {
        "id": "acceptable-knowing"
      },
      "source": [
        "## Conclusiones\n"
      ]
    }
  ],
  "metadata": {
    "colab": {
      "provenance": []
    },
    "kernelspec": {
      "display_name": "Python (bertgpu)",
      "language": "python",
      "name": "bertgpu"
    },
    "language_info": {
      "codemirror_mode": {
        "name": "ipython",
        "version": 3
      },
      "file_extension": ".py",
      "mimetype": "text/x-python",
      "name": "python",
      "nbconvert_exporter": "python",
      "pygments_lexer": "ipython3",
      "version": "3.7.10"
    }
  },
  "nbformat": 4,
  "nbformat_minor": 5
}
